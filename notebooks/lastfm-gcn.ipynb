{
 "cells": [
  {
   "cell_type": "code",
   "execution_count": null,
   "metadata": {},
   "outputs": [],
   "source": [
    "%load_ext autoreload\n",
    "%autoreload 2\n",
    "import sys\n",
    "sys.path.insert(0, '../src')\n",
    "import math\n",
    "import numpy as np\n",
    "from itertools import product\n",
    "from data import make_dataset\n",
    "from client import Client\n",
    "from server import Server\n",
    "from torch_geometric.transforms import RandomNodeSplit\n",
    "\n",
    "dataset = make_dataset(\"lastfm\", root=\"../data\")\n",
    "graph = dataset[0]\n",
    "RandomNodeSplit(num_val=0.25, num_test=0.25)(graph)\n",
    "linkless_graph = graph.clone()\n",
    "linkless_graph.edge_index = None"
   ]
  },
  {
   "cell_type": "markdown",
   "metadata": {},
   "source": [
    "## Baselines"
   ]
  },
  {
   "cell_type": "markdown",
   "metadata": {},
   "source": [
    "First, let's train a MLP without any link information. This should be the lower bound of our LDP GNN performance."
   ]
  },
  {
   "cell_type": "code",
   "execution_count": null,
   "metadata": {},
   "outputs": [],
   "source": [
    "mlp_hparam_space = {\n",
    "    \"lr\": [1e-5, 1e-4, 1e-3, 1e-2, 1e-1],\n",
    "    \"wd\": [1e-5, 1e-4, 1e-3, 1e-2, 1e-1]\n",
    "}\n",
    "mlp_hparam_list = [dict(zip(mlp_hparam_space.keys(), values)) for values in product(*mlp_hparam_space.values())]\n",
    "\n",
    "min_mlp_loss = math.inf\n",
    "best_mlp_hp = None\n",
    "\n",
    "for hp in mlp_hparam_list:\n",
    "    mlp_server = Server(None, None, graph)\n",
    "    log = mlp_server.fit(\"mlp\", dataset.num_features, dataset.num_classes, hparam=hp)\n",
    "    val_loss = log[np.argmin(log[:,1]),1]\n",
    "    if val_loss < min_mlp_loss:\n",
    "        best_mlp_hp = hp\n",
    "        min_mlp_loss = val_loss\n",
    "\n",
    "print(\"Best hparam found:\", best_mlp_hp, \"with validation loss\", min_mlp_loss)"
   ]
  },
  {
   "cell_type": "code",
   "execution_count": null,
   "metadata": {},
   "outputs": [],
   "source": [
    "mlp_res = np.zeros(30)\n",
    "for i in range(30):\n",
    "    mlp_server = Server(None, None, graph)\n",
    "    log = mlp_server.fit(\"mlp\", dataset.num_features, dataset.num_classes, hparam=best_mlp_hp)\n",
    "    mlp_res[i] = log[np.argmin(log[:,1]),2]\n",
    "print(mlp_res.mean())\n",
    "print(mlp_res.std())"
   ]
  },
  {
   "cell_type": "markdown",
   "metadata": {},
   "source": [
    "Then, let's train a GCN with all the information. This is the non-private upper bound of our LDP GNN."
   ]
  },
  {
   "cell_type": "code",
   "execution_count": null,
   "metadata": {},
   "outputs": [],
   "source": [
    "gcn_hparam_space = {\n",
    "    \"lr\": [1e-5, 1e-4, 1e-3, 1e-2, 1e-1],\n",
    "    \"wd\": [1e-5, 1e-4, 1e-3, 1e-2, 1e-1]\n",
    "}\n",
    "gcn_hparam_list = [dict(zip(gcn_hparam_space.keys(), values)) for values in product(*gcn_hparam_space.values())]\n",
    "\n",
    "min_gcn_loss = math.inf\n",
    "best_gcn_hp = None\n",
    "\n",
    "for hp in gcn_hparam_list:\n",
    "    gcn_server = Server(None, None, graph)\n",
    "    log = mlp_server.fit(\"gcn\", dataset.num_features, dataset.num_classes, hparam=hp)\n",
    "    val_loss = log[np.argmin(log[:,1]),1]\n",
    "    if val_loss < min_gcn_loss:\n",
    "        best_gcn_hp = hp\n",
    "        min_gcn_loss = val_loss\n",
    "\n",
    "print(\"Best hparam found:\", best_gcn_hp, \"with validation loss\", min_gcn_loss)"
   ]
  },
  {
   "cell_type": "code",
   "execution_count": null,
   "metadata": {},
   "outputs": [],
   "source": [
    "gcn_res = np.zeros(30)\n",
    "for i in range(30):\n",
    "    gcn_server = Server(None, None, graph)\n",
    "    log = gcn_server.fit(\"gcn\", dataset.num_features, dataset.num_classes, hparam=best_gcn_hp)\n",
    "    gcn_res[i] = log[np.argmin(log[:,1]),2]\n",
    "print(gcn_res.mean())\n",
    "print(gcn_res.std())"
   ]
  },
  {
   "cell_type": "markdown",
   "metadata": {},
   "source": [
    "## Grid Search for hyper parameter tuning"
   ]
  },
  {
   "cell_type": "code",
   "execution_count": null,
   "metadata": {},
   "outputs": [],
   "source": [
    "hparam_space = {\n",
    "    \"delta\": [0.1, 0.3, 0.5],\n",
    "    \"lr\": [1e-5, 1e-4, 1e-3, 1e-2, 1e-1],\n",
    "    \"wd\": [1e-5, 1e-4, 1e-3, 1e-2, 1e-1]\n",
    "}\n",
    "\n",
    "hparam_list = [dict(zip(hparam_space.keys(), values)) for values in product(*hparam_space.values())]"
   ]
  },
  {
   "cell_type": "code",
   "execution_count": null,
   "metadata": {},
   "outputs": [],
   "source": [
    "import math\n",
    "\n",
    "num_trials = 10\n",
    "min_val_loss = {}\n",
    "best_hparam = {}\n",
    "best_hparam_res = {}\n",
    "\n",
    "for eps in [0.5, 1, 2, 4, 8]:\n",
    "    print(\"Epsilon = \", eps)\n",
    "    min_val_loss[eps] = math.inf\n",
    "    best_hparam[eps] = None\n",
    "    best_hparam_res[eps] = None\n",
    "    for hparam in hparam_list:\n",
    "        hparam_res = np.zeros((num_trials, 2))\n",
    "        for i in range(num_trials):\n",
    "            client = Client(eps=eps, delta=hparam[\"delta\"], data=graph)\n",
    "            server = Server(eps=eps, delta=hparam[\"delta\"], data=linkless_graph)\n",
    "\n",
    "            priv_adj, priv_deg = client.AddLDP()\n",
    "            server.receive(priv_adj, priv_deg)\n",
    "            server.estimate()\n",
    "            log = server.fit(\"gcn\", d=dataset.num_features, c=dataset.num_classes, hparam=hparam)\n",
    "            hparam_res[i] = log[:,1].min(), log[np.argmin(log[:,1])][2] # (val_loss, test_acc)\n",
    "        val_loss = hparam_res[:,0].mean()\n",
    "        if val_loss < min_val_loss[eps]:\n",
    "            min_val_loss[eps] = val_loss\n",
    "            best_hparam_res[eps] = hparam_res\n",
    "            best_hparam[eps] = hparam\n",
    "    print(\"Best hparam is: \", best_hparam[eps], \"with test accuracy\", best_hparam_res[eps][:,1].mean(), \"(\", best_hparam_res[eps][:,1].std(), \")\")"
   ]
  },
  {
   "cell_type": "markdown",
   "metadata": {},
   "source": [
    "## Training with best hparam"
   ]
  },
  {
   "cell_type": "code",
   "execution_count": null,
   "metadata": {},
   "outputs": [],
   "source": [
    "res = {}\n",
    "num_trials = 30\n",
    "\n",
    "for eps in [0.5, 1, 2, 4, 8]:\n",
    "    hp = best_hparam[eps]\n",
    "    res[eps] = np.zeros(num_trials)\n",
    "    for i in range(num_trials):\n",
    "        client = Client(eps=eps, delta=hp[\"delta\"], data=graph)\n",
    "        server = Server(eps=eps, delta=hp[\"delta\"], data=linkless_graph)\n",
    "\n",
    "        priv_adj, priv_deg = client.AddLDP()\n",
    "        server.receive(priv_adj, priv_deg)\n",
    "        server.estimate()\n",
    "        log = server.fit(\"gcn\", d=dataset.num_features, c=dataset.num_classes, hparam=hp)\n",
    "        res[eps][i] = log[np.argmin(log[:,1])][2]"
   ]
  },
  {
   "cell_type": "code",
   "execution_count": null,
   "metadata": {},
   "outputs": [],
   "source": [
    "{i:(res[i].mean(), res[i].std()) for i in [0.5, 1, 2, 4, 8]}"
   ]
  },
  {
   "cell_type": "code",
   "execution_count": null,
   "metadata": {},
   "outputs": [],
   "source": [
    "from matplotlib import pyplot as plt\n",
    "\n",
    "fig = plt.figure()\n",
    "plt.axhline(y = gcn_res.mean(), color = 'g', linestyle = '--')\n",
    "plt.axhline(y = mlp_res.mean(), color = 'r', linestyle = '--')\n",
    "# plt.errorbar([\"0.5\", \"1\", \"2\", \"4\", \"8\"], [res[i].mean() for i in [0.5, 1, 2, 4, 8]], yerr=[res[i].std() for i in [0.5, 1, 2, 4, 8]], fmt='.k', capsize=3)\n",
    "# plt.plot([\"0.5\", \"1\", \"2\", \"4\", \"8\"], [res[i].mean() for i in [0.5, 1, 2, 4, 8]], marker=\"D\", color=\"blue\")\n",
    "\n",
    "# plt.yscale(\"log\")\n",
    "plt.ylim(ymin=0, ymax=1)\n",
    "plt.xlabel(\"$\\epsilon$\")\n",
    "plt.ylabel(\"Accuracy (%)\")\n",
    "plt.title(\"GCN on LastFMAsia\")\n",
    "plt.legend([\"$\\epsilon=\\infty$ (non-private GCN)\",\"$\\epsilon=0$ (MLP without links)\"], loc=4)\n",
    "# plt.savefig(\"log/cora.pdf\", bbox_inches='tight')"
   ]
  }
 ],
 "metadata": {
  "kernelspec": {
   "display_name": "Python 3.9.13 ('torch')",
   "language": "python",
   "name": "python3"
  },
  "language_info": {
   "codemirror_mode": {
    "name": "ipython",
    "version": 3
   },
   "file_extension": ".py",
   "mimetype": "text/x-python",
   "name": "python",
   "nbconvert_exporter": "python",
   "pygments_lexer": "ipython3",
   "version": "3.9.13"
  },
  "orig_nbformat": 4,
  "vscode": {
   "interpreter": {
    "hash": "a883cd0216d4960cd56b7fd18f9df9f4151425167a460043f19521b388432bcb"
   }
  }
 },
 "nbformat": 4,
 "nbformat_minor": 2
}
