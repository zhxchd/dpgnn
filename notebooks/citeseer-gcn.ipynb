{
 "cells": [
  {
   "cell_type": "code",
   "execution_count": 2,
   "metadata": {},
   "outputs": [
    {
     "name": "stdout",
     "output_type": "stream",
     "text": [
      "The autoreload extension is already loaded. To reload it, use:\n",
      "  %reload_ext autoreload\n"
     ]
    }
   ],
   "source": [
    "%load_ext autoreload\n",
    "%autoreload 2\n",
    "import sys\n",
    "sys.path.insert(0, '../src')\n",
    "\n",
    "import numpy as np\n",
    "from itertools import product\n",
    "from data import make_dataset\n",
    "from blink import Client\n",
    "from blink import Server\n",
    "\n",
    "graph = make_dataset(\"citeseer\", root=\"../data\")\n",
    "linkless_graph = graph.clone()\n",
    "linkless_graph.edge_index = None"
   ]
  },
  {
   "cell_type": "code",
   "execution_count": 2,
   "metadata": {},
   "outputs": [],
   "source": [
    "import json\n",
    "\n",
    "with open(\"config.json\") as f:\n",
    "    conf = json.load(f)\n",
    "\n",
    "non_private_hparam_space = conf[\"non_private_hparam_space\"]\n",
    "hparam_space = conf[\"hparam_space\"]"
   ]
  },
  {
   "cell_type": "markdown",
   "metadata": {},
   "source": [
    "## Baselines"
   ]
  },
  {
   "cell_type": "markdown",
   "metadata": {},
   "source": [
    "### MLP\n",
    "First, let's train a MLP without any link information. This should be the lower bound of our LDP GNN performance."
   ]
  },
  {
   "cell_type": "code",
   "execution_count": 3,
   "metadata": {},
   "outputs": [],
   "source": [
    "baseline_hparams = [dict(zip(non_private_hparam_space.keys(), values)) for values in product(*non_private_hparam_space.values())]"
   ]
  },
  {
   "cell_type": "code",
   "execution_count": 4,
   "metadata": {},
   "outputs": [
    {
     "name": "stdout",
     "output_type": "stream",
     "text": [
      "Best hparam is:  {'do': 0.1, 'lr': 0.01, 'wd': 0.0001} with validation loss 0.8378641605377197\n"
     ]
    }
   ],
   "source": [
    "import math\n",
    "\n",
    "mlp_min_val_loss = math.inf\n",
    "mlp_best_hp = None\n",
    "\n",
    "# this is for \n",
    "for hp in baseline_hparams:\n",
    "    mlp_server = Server(None, None, graph)\n",
    "    log = mlp_server.fit(\"mlp\", hparam=hp)\n",
    "    val_loss = log[:,1].min()\n",
    "\n",
    "    if val_loss < mlp_min_val_loss:\n",
    "        mlp_min_val_loss = val_loss\n",
    "        mlp_best_hp = hp\n",
    "\n",
    "print(\"Best hparam is: \", mlp_best_hp, \"with validation loss\", mlp_min_val_loss)"
   ]
  },
  {
   "cell_type": "code",
   "execution_count": 5,
   "metadata": {},
   "outputs": [
    {
     "name": "stdout",
     "output_type": "stream",
     "text": [
      "At best hparam, test accuracy is 0.7388964888280894 ( 0.006384600318536124 )\n"
     ]
    }
   ],
   "source": [
    "mlp_res = np.zeros(30)\n",
    "for i in range(30):\n",
    "    mlp_server = Server(None, None, graph)\n",
    "    log = mlp_server.fit(\"mlp\", hparam=mlp_best_hp)\n",
    "    mlp_res[i] = log[np.argmin(log[:,1]),2]\n",
    "print(\"At best hparam, test accuracy is\", mlp_res.mean(), \"(\", mlp_res.std(), \")\")"
   ]
  },
  {
   "cell_type": "markdown",
   "metadata": {},
   "source": [
    "### GCN\n",
    "Then, let's train a GCN with all the information. This is the non-private upper bound of our LDP GNN."
   ]
  },
  {
   "cell_type": "code",
   "execution_count": 6,
   "metadata": {},
   "outputs": [
    {
     "name": "stdout",
     "output_type": "stream",
     "text": [
      "Best hparam is:  {'do': 0.1, 'lr': 0.1, 'wd': 0.0001} with validation loss 0.7067838907241821\n"
     ]
    }
   ],
   "source": [
    "import math\n",
    "\n",
    "gcn_min_val_loss = math.inf\n",
    "gcn_best_hp = None\n",
    "\n",
    "for hp in baseline_hparams:\n",
    "    gcn_server = Server(None, None, graph)\n",
    "    log = mlp_server.fit(\"gcn\", hparam=hp)\n",
    "    val_loss = log[:,1].min()\n",
    "\n",
    "    if val_loss < gcn_min_val_loss:\n",
    "        gcn_min_val_loss = val_loss\n",
    "        gcn_best_hp = hp\n",
    "\n",
    "print(\"Best hparam is: \", gcn_best_hp, \"with validation loss\", gcn_min_val_loss)"
   ]
  },
  {
   "cell_type": "code",
   "execution_count": 7,
   "metadata": {},
   "outputs": [
    {
     "name": "stdout",
     "output_type": "stream",
     "text": [
      "At best hparam, test accuracy is 0.784404924760602 ( 0.005269866014844927 )\n"
     ]
    }
   ],
   "source": [
    "gcn_res = np.zeros(30)\n",
    "for i in range(30):\n",
    "    gcn_server = Server(None, None, graph)\n",
    "    log = mlp_server.fit(\"gcn\", hparam=gcn_best_hp)\n",
    "    gcn_res[i] = log[np.argmin(log[:,1]),2]\n",
    "print(\"At best hparam, test accuracy is\", gcn_res.mean(), \"(\", gcn_res.std(), \")\")"
   ]
  },
  {
   "cell_type": "markdown",
   "metadata": {},
   "source": [
    "## Grid search for hyperparameter tuning"
   ]
  },
  {
   "cell_type": "code",
   "execution_count": 8,
   "metadata": {},
   "outputs": [],
   "source": [
    "hparam_list = [dict(zip(hparam_space.keys(), values)) for values in product(*hparam_space.values())]"
   ]
  },
  {
   "cell_type": "code",
   "execution_count": 9,
   "metadata": {},
   "outputs": [
    {
     "name": "stdout",
     "output_type": "stream",
     "text": [
      "Best hparam found at 2  {'do': 0.1, 'lr': 0.1, 'wd': 0.0001, 'delta': 0.5} with validation loss 0.8009100556373596\n",
      "Best hparam found at 4  {'do': 0.1, 'lr': 0.1, 'wd': 0.0001, 'delta': 0.9} with validation loss 0.8191655278205872\n",
      "Best hparam found at 6  {'do': 0.1, 'lr': 0.1, 'wd': 0.0001, 'delta': 0.1} with validation loss 0.6945604085922241\n",
      "Best hparam found at 8  {'do': 0.1, 'lr': 0.01, 'wd': 0.0001, 'delta': 0.1} with validation loss 0.7186324000358582\n"
     ]
    }
   ],
   "source": [
    "import math\n",
    "\n",
    "best_hparam = {}\n",
    "min_val_loss = {}\n",
    "\n",
    "for eps in [2, 4, 6, 8]:\n",
    "    min_val_loss[eps] = math.inf\n",
    "    best_hparam[eps] = None\n",
    "\n",
    "    for hp in hparam_list:\n",
    "        client = Client(eps=eps, delta=hp[\"delta\"], data=graph)\n",
    "        server = Server(eps=eps, delta=hp[\"delta\"], data=linkless_graph)\n",
    "\n",
    "        priv_adj, priv_deg = client.AddLDP()\n",
    "        server.receive(priv_adj, priv_deg)\n",
    "        server.estimate()\n",
    "        log = server.fit(\"gcn\", hparam=hp)\n",
    "\n",
    "        val_loss = log[:,1].min()\n",
    "        if val_loss < min_val_loss[eps]:\n",
    "            min_val_loss[eps] = val_loss\n",
    "            best_hparam[eps] = hp\n",
    "    \n",
    "    print(\"Best hparam found at\", eps, \"\", best_hparam[eps], \"with validation loss\", min_val_loss[eps])"
   ]
  },
  {
   "cell_type": "markdown",
   "metadata": {},
   "source": [
    "## Training with best hparam"
   ]
  },
  {
   "cell_type": "code",
   "execution_count": 10,
   "metadata": {},
   "outputs": [],
   "source": [
    "res = {}\n",
    "num_trials = 30\n",
    "\n",
    "for eps in [2, 4, 6, 8]:\n",
    "    hp = best_hparam[eps]\n",
    "    res[eps] = np.zeros(num_trials)\n",
    "    for i in range(num_trials):\n",
    "        client = Client(eps=eps, delta=hp[\"delta\"], data=graph)\n",
    "        server = Server(eps=eps, delta=hp[\"delta\"], data=linkless_graph)\n",
    "\n",
    "        priv_adj, priv_deg = client.AddLDP()\n",
    "        server.receive(priv_adj, priv_deg)\n",
    "        server.estimate()\n",
    "        log = server.fit(\"gcn\", hparam=hp)\n",
    "        res[eps][i] = log[np.argmin(log[:,1])][2]"
   ]
  },
  {
   "cell_type": "code",
   "execution_count": 11,
   "metadata": {},
   "outputs": [
    {
     "data": {
      "text/plain": [
       "{2: (0.7392156862745097, 0.008332265010746681),\n",
       " 4: (0.7387596899224808, 0.0074131320077322465),\n",
       " 6: (0.7782033743730051, 0.009350038131633256),\n",
       " 8: (0.7847697218422255, 0.0034305960554134136)}"
      ]
     },
     "execution_count": 11,
     "metadata": {},
     "output_type": "execute_result"
    }
   ],
   "source": [
    "{i:(res[i].mean(), res[i].std()) for i in [2, 4, 6, 8]}"
   ]
  },
  {
   "cell_type": "code",
   "execution_count": 1,
   "metadata": {},
   "outputs": [],
   "source": [
    "final_res = {\n",
    "    \"0\": (0.7388964888280894, 0.006384600318536124),\n",
    "    \"2\": (0.7392156862745097, 0.008332265010746681),\n",
    "    \"4\": (0.7387596899224808, 0.0074131320077322465),\n",
    "    \"6\": (0.7782033743730051, 0.009350038131633256),\n",
    "    \"8\": (0.7847697218422255, 0.0034305960554134136),\n",
    "    \"inf\": (0.784404924760602, 0.005269866014844927)}"
   ]
  },
  {
   "cell_type": "code",
   "execution_count": 28,
   "metadata": {},
   "outputs": [
    {
     "data": {
      "image/png": "[encoded data removed]",
      "text/plain": [
       "<Figure size 600x400 with 1 Axes>"
      ]
     },
     "metadata": {},
     "output_type": "display_data"
    }
   ],
   "source": [
    "from matplotlib import pyplot as plt\n",
    "\n",
    "from matplotlib import rc\n",
    "#rc('font',**{'family':'sans-serif','sans-serif':['Helvetica']})\n",
    "rc('font',**{'family':'serif', 'serif': 'Linux Libertine O'})\n",
    "rc('text', usetex=True)\n",
    "rc('font', **{\"size\": 12})\n",
    "rc(\"figure\", figsize=(6,4))\n",
    "\n",
    "fig = plt.figure()\n",
    "x = [\"0\", \"2\", \"4\", \"6\", \"8\", \"inf\"]\n",
    "# plt.yscale(\"logit\")\n",
    "plt.plot(x, 6*[None], label=\"_nolegend_\")\n",
    "plt.plot(x, [final_res[\"inf\"][0]*100 for i in x], linestyle='dashed', marker=\"x\", markevery=[5], color=\"green\")\n",
    "plt.plot(x, [final_res[\"0\"][0]*100 for i in x], linestyle='dashed', marker=\"x\", markevery=[0], color=\"red\")\n",
    "plt.errorbar([\"2\",\"4\",\"6\",\"8\"], [final_res[i][0]*100 for i in [\"2\",\"4\",\"6\",\"8\"]], yerr=[final_res[i][1] for i in [\"2\",\"4\",\"6\",\"8\"]], fmt='.k', capsize=3)\n",
    "plt.plot([\"2\",\"4\",\"6\",\"8\"], [final_res[i][0]*100 for i in [\"2\",\"4\",\"6\",\"8\"]], marker=\"D\", color=\"blue\")\n",
    "\n",
    "# plt.yscale(\"log\")\n",
    "plt.ylim(ymin=55, ymax=80)\n",
    "plt.xlabel(\"$\\epsilon$\")\n",
    "plt.ylabel(\"Accuracy (\\%)\")\n",
    "plt.title(\"GCN on CiteSeer\")\n",
    "plt.legend([\"$\\epsilon=\\infty$ (non-private GCN)\",\"$\\epsilon=0$ (MLP without links)\", \"Blink (Ours)\"], loc=4)\n",
    "plt.savefig(\"log/citeseer.pdf\", bbox_inches='tight')"
   ]
  }
 ],
 "metadata": {
  "kernelspec": {
   "display_name": "Python 3.9.13 ('torch')",
   "language": "python",
   "name": "python3"
  },
  "language_info": {
   "codemirror_mode": {
    "name": "ipython",
    "version": 3
   },
   "file_extension": ".py",
   "mimetype": "text/x-python",
   "name": "python",
   "nbconvert_exporter": "python",
   "pygments_lexer": "ipython3",
   "version": "3.9.13"
  },
  "orig_nbformat": 4,
  "vscode": {
   "interpreter": {
    "hash": "a883cd0216d4960cd56b7fd18f9df9f4151425167a460043f19521b388432bcb"
   }
  }
 },
 "nbformat": 4,
 "nbformat_minor": 2
}
