{
 "cells": [
  {
   "cell_type": "code",
   "execution_count": 1,
   "metadata": {},
   "outputs": [],
   "source": [
    "import os\n",
    "import torch\n",
    "import torch_geometric\n",
    "import numpy as np\n",
    "import matplotlib\n",
    "import matplotlib.pyplot as plt\n",
    "from brr import BRR\n",
    "\n",
    "from torch_geometric.datasets import Planetoid\n",
    "from torch_geometric.transforms import NormalizeFeatures\n",
    "\n",
    "from torch_geometric.nn import GCNConv\n",
    "import torch.nn.functional as F\n",
    "\n",
    "device = torch.device(\"cuda:0\" if torch.cuda.is_available() else \"cpu\")\n",
    "\n",
    "dataset = Planetoid(root='data/Planetoid', name='pubmed', transform=NormalizeFeatures())\n",
    "data = dataset[0].to(device)  # Get the first graph object."
   ]
  },
  {
   "cell_type": "code",
   "execution_count": 2,
   "metadata": {},
   "outputs": [],
   "source": [
    "class GCN(torch.nn.Module):\n",
    "    def __init__(self, hidden_channels):\n",
    "        super().__init__()\n",
    "        # torch.manual_seed(1234567)\n",
    "        self.conv1 = GCNConv(dataset.num_features, hidden_channels)\n",
    "        self.conv2 = GCNConv(hidden_channels, dataset.num_classes)\n",
    "\n",
    "    def forward(self, x, edge_index, edge_weight=None):\n",
    "        x = self.conv1(x, edge_index, edge_weight)\n",
    "        x = x.relu()\n",
    "        x = F.dropout(x, p=0.5, training=self.training)\n",
    "        x = self.conv2(x, edge_index, edge_weight)\n",
    "        return x"
   ]
  },
  {
   "cell_type": "code",
   "execution_count": 3,
   "metadata": {},
   "outputs": [],
   "source": [
    "def train_gcn(eps, iterations):\n",
    "    ldp = BRR(eps=eps, num_nodes=data.num_nodes, edge_index=data.edge_index)\n",
    "    est_edge_index = ldp.get_est_edge_index()\n",
    "    \n",
    "    model = GCN(hidden_channels=16).to(device)\n",
    "    optimizer = torch.optim.Adam(model.parameters(), lr=0.01, weight_decay=5e-4)\n",
    "    criterion = torch.nn.CrossEntropyLoss()\n",
    "\n",
    "    def train():\n",
    "        model.train()\n",
    "        optimizer.zero_grad()  # Clear gradients.\n",
    "        # out = model(data.x, get_est_edge_index())  # Perform a single forward pass.\n",
    "        out = model(data.x, est_edge_index)\n",
    "        loss = criterion(out[data.train_mask], data.y[data.train_mask])  # Compute the loss solely based on the training nodes.\n",
    "        # val_loss = criterion(out[data.val_mask], data.y[data.val_mask])\n",
    "        loss.backward()  # Derive gradients.\n",
    "        optimizer.step()  # Update parameters based on gradients\n",
    "        return float(loss)\n",
    "\n",
    "    def test():\n",
    "        model.eval()\n",
    "        out = model(data.x, est_edge_index)\n",
    "        pred = out.argmax(dim=1)  # Use the class with highest probability.\n",
    "        test_correct = pred[data.test_mask] == data.y[data.test_mask]  # Check against ground-truth labels.\n",
    "        test_acc = int(test_correct.sum()) / int(data.test_mask.sum())  # Derive ratio of correct predictions.\n",
    "        return test_acc\n",
    "    \n",
    "    log = np.zeros((iterations, 2))\n",
    "\n",
    "    for epoch in range(1, iterations+1):\n",
    "        loss = train()\n",
    "        test_acc = test()\n",
    "        log[epoch-1] = [loss, test_acc]\n",
    "    \n",
    "    return max(log[:,1])"
   ]
  },
  {
   "cell_type": "code",
   "execution_count": 4,
   "metadata": {},
   "outputs": [
    {
     "ename": "RuntimeError",
     "evalue": "CUDA out of memory. Tried to allocate 1.45 GiB (GPU 0; 6.00 GiB total capacity; 4.39 GiB already allocated; 105.84 MiB free; 4.41 GiB reserved in total by PyTorch) If reserved memory is >> allocated memory try setting max_split_size_mb to avoid fragmentation.  See documentation for Memory Management and PYTORCH_CUDA_ALLOC_CONF",
     "output_type": "error",
     "traceback": [
      "\u001b[0;31m---------------------------------------------------------------------------\u001b[0m",
      "\u001b[0;31mRuntimeError\u001b[0m                              Traceback (most recent call last)",
      "\u001b[1;32m/home/xczhu/dev/dpgnn/src/experiments/pubmed.ipynb Cell 4\u001b[0m in \u001b[0;36m<cell line: 2>\u001b[0;34m()\u001b[0m\n\u001b[1;32m      <a href='vscode-notebook-cell://wsl%2Bubuntu/home/xczhu/dev/dpgnn/src/experiments/pubmed.ipynb#W3sdnNjb2RlLXJlbW90ZQ%3D%3D?line=0'>1</a>\u001b[0m res \u001b[39m=\u001b[39m {}\n\u001b[1;32m      <a href='vscode-notebook-cell://wsl%2Bubuntu/home/xczhu/dev/dpgnn/src/experiments/pubmed.ipynb#W3sdnNjb2RlLXJlbW90ZQ%3D%3D?line=1'>2</a>\u001b[0m \u001b[39mfor\u001b[39;00m eps \u001b[39min\u001b[39;00m [\u001b[39m0.01\u001b[39m, \u001b[39m0.1\u001b[39m, \u001b[39m1\u001b[39m, \u001b[39m2\u001b[39m, \u001b[39m4\u001b[39m, \u001b[39m8\u001b[39m]:\n\u001b[0;32m----> <a href='vscode-notebook-cell://wsl%2Bubuntu/home/xczhu/dev/dpgnn/src/experiments/pubmed.ipynb#W3sdnNjb2RlLXJlbW90ZQ%3D%3D?line=2'>3</a>\u001b[0m     acc \u001b[39m=\u001b[39m np\u001b[39m.\u001b[39marray([train_gcn(eps, \u001b[39m200\u001b[39m) \u001b[39mfor\u001b[39;00m _ \u001b[39min\u001b[39;00m \u001b[39mrange\u001b[39m(\u001b[39m30\u001b[39m)])\n\u001b[1;32m      <a href='vscode-notebook-cell://wsl%2Bubuntu/home/xczhu/dev/dpgnn/src/experiments/pubmed.ipynb#W3sdnNjb2RlLXJlbW90ZQ%3D%3D?line=3'>4</a>\u001b[0m     res[eps] \u001b[39m=\u001b[39m [np\u001b[39m.\u001b[39mmean(acc), np\u001b[39m.\u001b[39mstd(acc)]\n",
      "\u001b[1;32m/home/xczhu/dev/dpgnn/src/experiments/pubmed.ipynb Cell 4\u001b[0m in \u001b[0;36m<listcomp>\u001b[0;34m(.0)\u001b[0m\n\u001b[1;32m      <a href='vscode-notebook-cell://wsl%2Bubuntu/home/xczhu/dev/dpgnn/src/experiments/pubmed.ipynb#W3sdnNjb2RlLXJlbW90ZQ%3D%3D?line=0'>1</a>\u001b[0m res \u001b[39m=\u001b[39m {}\n\u001b[1;32m      <a href='vscode-notebook-cell://wsl%2Bubuntu/home/xczhu/dev/dpgnn/src/experiments/pubmed.ipynb#W3sdnNjb2RlLXJlbW90ZQ%3D%3D?line=1'>2</a>\u001b[0m \u001b[39mfor\u001b[39;00m eps \u001b[39min\u001b[39;00m [\u001b[39m0.01\u001b[39m, \u001b[39m0.1\u001b[39m, \u001b[39m1\u001b[39m, \u001b[39m2\u001b[39m, \u001b[39m4\u001b[39m, \u001b[39m8\u001b[39m]:\n\u001b[0;32m----> <a href='vscode-notebook-cell://wsl%2Bubuntu/home/xczhu/dev/dpgnn/src/experiments/pubmed.ipynb#W3sdnNjb2RlLXJlbW90ZQ%3D%3D?line=2'>3</a>\u001b[0m     acc \u001b[39m=\u001b[39m np\u001b[39m.\u001b[39marray([train_gcn(eps, \u001b[39m200\u001b[39;49m) \u001b[39mfor\u001b[39;00m _ \u001b[39min\u001b[39;00m \u001b[39mrange\u001b[39m(\u001b[39m30\u001b[39m)])\n\u001b[1;32m      <a href='vscode-notebook-cell://wsl%2Bubuntu/home/xczhu/dev/dpgnn/src/experiments/pubmed.ipynb#W3sdnNjb2RlLXJlbW90ZQ%3D%3D?line=3'>4</a>\u001b[0m     res[eps] \u001b[39m=\u001b[39m [np\u001b[39m.\u001b[39mmean(acc), np\u001b[39m.\u001b[39mstd(acc)]\n",
      "\u001b[1;32m/home/xczhu/dev/dpgnn/src/experiments/pubmed.ipynb Cell 4\u001b[0m in \u001b[0;36mtrain_gcn\u001b[0;34m(eps, iterations)\u001b[0m\n\u001b[1;32m      <a href='vscode-notebook-cell://wsl%2Bubuntu/home/xczhu/dev/dpgnn/src/experiments/pubmed.ipynb#W3sdnNjb2RlLXJlbW90ZQ%3D%3D?line=0'>1</a>\u001b[0m \u001b[39mdef\u001b[39;00m \u001b[39mtrain_gcn\u001b[39m(eps, iterations):\n\u001b[1;32m      <a href='vscode-notebook-cell://wsl%2Bubuntu/home/xczhu/dev/dpgnn/src/experiments/pubmed.ipynb#W3sdnNjb2RlLXJlbW90ZQ%3D%3D?line=1'>2</a>\u001b[0m     ldp \u001b[39m=\u001b[39m BRR(eps\u001b[39m=\u001b[39meps, num_nodes\u001b[39m=\u001b[39mdata\u001b[39m.\u001b[39mnum_nodes, edge_index\u001b[39m=\u001b[39mdata\u001b[39m.\u001b[39medge_index)\n\u001b[0;32m----> <a href='vscode-notebook-cell://wsl%2Bubuntu/home/xczhu/dev/dpgnn/src/experiments/pubmed.ipynb#W3sdnNjb2RlLXJlbW90ZQ%3D%3D?line=2'>3</a>\u001b[0m     est_edge_index \u001b[39m=\u001b[39m ldp\u001b[39m.\u001b[39;49mget_est_edge_index()\n\u001b[1;32m      <a href='vscode-notebook-cell://wsl%2Bubuntu/home/xczhu/dev/dpgnn/src/experiments/pubmed.ipynb#W3sdnNjb2RlLXJlbW90ZQ%3D%3D?line=4'>5</a>\u001b[0m     model \u001b[39m=\u001b[39m GCN(hidden_channels\u001b[39m=\u001b[39m\u001b[39m16\u001b[39m)\u001b[39m.\u001b[39mto(device)\n\u001b[1;32m      <a href='vscode-notebook-cell://wsl%2Bubuntu/home/xczhu/dev/dpgnn/src/experiments/pubmed.ipynb#W3sdnNjb2RlLXJlbW90ZQ%3D%3D?line=5'>6</a>\u001b[0m     optimizer \u001b[39m=\u001b[39m torch\u001b[39m.\u001b[39moptim\u001b[39m.\u001b[39mAdam(model\u001b[39m.\u001b[39mparameters(), lr\u001b[39m=\u001b[39m\u001b[39m0.01\u001b[39m, weight_decay\u001b[39m=\u001b[39m\u001b[39m5e-4\u001b[39m)\n",
      "File \u001b[0;32m~/dev/dpgnn/src/experiments/brr.py:37\u001b[0m, in \u001b[0;36mBRR.get_est_edge_index\u001b[0;34m(self)\u001b[0m\n\u001b[1;32m     36\u001b[0m \u001b[39mdef\u001b[39;00m \u001b[39mget_est_edge_index\u001b[39m(\u001b[39mself\u001b[39m):\n\u001b[0;32m---> 37\u001b[0m     noisy_adj \u001b[39m=\u001b[39m \u001b[39mself\u001b[39;49m\u001b[39m.\u001b[39;49m__rr()\n\u001b[1;32m     38\u001b[0m     deg \u001b[39m=\u001b[39m \u001b[39mself\u001b[39m\u001b[39m.\u001b[39m__actual_degree()\n\u001b[1;32m     39\u001b[0m     pij \u001b[39m=\u001b[39m \u001b[39mself\u001b[39m\u001b[39m.\u001b[39m__get_pij_2d(noisy_adj, deg)\n",
      "File \u001b[0;32m~/dev/dpgnn/src/experiments/brr.py:20\u001b[0m, in \u001b[0;36mBRR.__rr\u001b[0;34m(self)\u001b[0m\n\u001b[1;32m     18\u001b[0m \u001b[39mdef\u001b[39;00m \u001b[39m__rr\u001b[39m(\u001b[39mself\u001b[39m):\n\u001b[1;32m     19\u001b[0m     \u001b[39m# return 1 with probability p, but does not flip diagonal edges since no self loop allowed\u001b[39;00m\n\u001b[0;32m---> 20\u001b[0m     \u001b[39mreturn\u001b[39;00m ((\u001b[39mself\u001b[39m\u001b[39m.\u001b[39madj \u001b[39m+\u001b[39m torch\u001b[39m.\u001b[39mbernoulli(torch\u001b[39m.\u001b[39mfull((\u001b[39mself\u001b[39m\u001b[39m.\u001b[39mn, \u001b[39mself\u001b[39m\u001b[39m.\u001b[39mn), \u001b[39mself\u001b[39m\u001b[39m.\u001b[39mp)\u001b[39m.\u001b[39mto(\u001b[39mself\u001b[39m\u001b[39m.\u001b[39mdevice))) \u001b[39m%\u001b[39m \u001b[39m2\u001b[39m) \u001b[39m*\u001b[39m (\u001b[39m1\u001b[39;49m \u001b[39m-\u001b[39;49m torch\u001b[39m.\u001b[39;49meye(\u001b[39mself\u001b[39;49m\u001b[39m.\u001b[39;49mn, \u001b[39mself\u001b[39;49m\u001b[39m.\u001b[39;49mn)\u001b[39m.\u001b[39;49mto(\u001b[39mself\u001b[39;49m\u001b[39m.\u001b[39;49mdevice))\n",
      "File \u001b[0;32m~/miniconda3/envs/torch/lib/python3.9/site-packages/torch/_tensor.py:32\u001b[0m, in \u001b[0;36m_handle_torch_function_and_wrap_type_error_to_not_implemented.<locals>.wrapped\u001b[0;34m(*args, **kwargs)\u001b[0m\n\u001b[1;32m     30\u001b[0m     \u001b[39mif\u001b[39;00m has_torch_function(args):\n\u001b[1;32m     31\u001b[0m         \u001b[39mreturn\u001b[39;00m handle_torch_function(wrapped, args, \u001b[39m*\u001b[39margs, \u001b[39m*\u001b[39m\u001b[39m*\u001b[39mkwargs)\n\u001b[0;32m---> 32\u001b[0m     \u001b[39mreturn\u001b[39;00m f(\u001b[39m*\u001b[39;49margs, \u001b[39m*\u001b[39;49m\u001b[39m*\u001b[39;49mkwargs)\n\u001b[1;32m     33\u001b[0m \u001b[39mexcept\u001b[39;00m \u001b[39mTypeError\u001b[39;00m:\n\u001b[1;32m     34\u001b[0m     \u001b[39mreturn\u001b[39;00m \u001b[39mNotImplemented\u001b[39m\n",
      "File \u001b[0;32m~/miniconda3/envs/torch/lib/python3.9/site-packages/torch/_tensor.py:639\u001b[0m, in \u001b[0;36mTensor.__rsub__\u001b[0;34m(self, other)\u001b[0m\n\u001b[1;32m    637\u001b[0m \u001b[39m@_handle_torch_function_and_wrap_type_error_to_not_implemented\u001b[39m\n\u001b[1;32m    638\u001b[0m \u001b[39mdef\u001b[39;00m \u001b[39m__rsub__\u001b[39m(\u001b[39mself\u001b[39m, other):\n\u001b[0;32m--> 639\u001b[0m     \u001b[39mreturn\u001b[39;00m _C\u001b[39m.\u001b[39;49m_VariableFunctions\u001b[39m.\u001b[39;49mrsub(\u001b[39mself\u001b[39;49m, other)\n",
      "\u001b[0;31mRuntimeError\u001b[0m: CUDA out of memory. Tried to allocate 1.45 GiB (GPU 0; 6.00 GiB total capacity; 4.39 GiB already allocated; 105.84 MiB free; 4.41 GiB reserved in total by PyTorch) If reserved memory is >> allocated memory try setting max_split_size_mb to avoid fragmentation.  See documentation for Memory Management and PYTORCH_CUDA_ALLOC_CONF"
     ]
    }
   ],
   "source": [
    "res = {}\n",
    "for eps in [0.01, 0.1, 1, 2, 4, 8]:\n",
    "    acc = np.array([train_gcn(eps, 200) for _ in range(30)])\n",
    "    res[eps] = [np.mean(acc), np.std(acc)]"
   ]
  },
  {
   "cell_type": "code",
   "execution_count": null,
   "metadata": {},
   "outputs": [
    {
     "data": {
      "text/plain": [
       "{0.01: [0.5668666666666666, 0.017289174519205787],\n",
       " 0.1: [0.5683333333333334, 0.017240134054647648],\n",
       " 1: [0.5686666666666668, 0.02256595272135039],\n",
       " 2: [0.5747666666666665, 0.015374618333112803],\n",
       " 4: [0.7740000000000001, 0.010082988974836126],\n",
       " 8: [0.8199333333333332, 0.006722763981842241]}"
      ]
     },
     "execution_count": 16,
     "metadata": {},
     "output_type": "execute_result"
    }
   ],
   "source": [
    "res"
   ]
  },
  {
   "cell_type": "code",
   "execution_count": null,
   "metadata": {},
   "outputs": [
    {
     "data": {
      "image/png": "[encoded data removed]",
      "text/plain": [
       "<Figure size 640x480 with 1 Axes>"
      ]
     },
     "metadata": {},
     "output_type": "display_data"
    }
   ],
   "source": [
    "fig = plt.figure()\n",
    "# plt.axhline(y = 0.83, color = 'r', linestyle = '--')\n",
    "plt.errorbar([\"0.01\", \"0.1\", \"1\", \"2\", \"4\", \"8\"], [res[i][0] for i in res], yerr=[res[i][1] for i in res], fmt='.k', capsize=3)\n",
    "plt.scatter([\"0.01\", \"0.1\", \"1\", \"2\", \"4\", \"8\"], [res[i][0] for i in res], marker=\"D\", color=\"green\")\n",
    "\n",
    "plt.ylim(ymin=0, ymax=1)\n",
    "plt.xlabel(\"$\\epsilon$\")\n",
    "plt.ylabel(\"Accuracy (%)\")\n",
    "plt.title(\"GCN on PubMed\")\n",
    "plt.savefig(\"pubmed.pdf\", bbox_inches='tight')"
   ]
  },
  {
   "cell_type": "code",
   "execution_count": null,
   "metadata": {},
   "outputs": [],
   "source": []
  }
 ],
 "metadata": {
  "kernelspec": {
   "display_name": "Python 3.9.13 ('torch')",
   "language": "python",
   "name": "python3"
  },
  "language_info": {
   "codemirror_mode": {
    "name": "ipython",
    "version": 3
   },
   "file_extension": ".py",
   "mimetype": "text/x-python",
   "name": "python",
   "nbconvert_exporter": "python",
   "pygments_lexer": "ipython3",
   "version": "3.9.13"
  },
  "orig_nbformat": 4,
  "vscode": {
   "interpreter": {
    "hash": "a883cd0216d4960cd56b7fd18f9df9f4151425167a460043f19521b388432bcb"
   }
  }
 },
 "nbformat": 4,
 "nbformat_minor": 2
}
